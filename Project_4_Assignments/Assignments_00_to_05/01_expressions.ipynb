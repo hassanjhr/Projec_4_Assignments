{
 "cells": [
  {
   "cell_type": "markdown",
   "id": "475ae7f7-91ff-4b34-a72e-77cff5c3c7b3",
   "metadata": {},
   "source": [
    "## 01_dicesimulator"
   ]
  },
  {
   "cell_type": "code",
   "execution_count": 34,
   "id": "1b1287fb-8216-4bb2-a302-030aaf5de7b6",
   "metadata": {},
   "outputs": [
    {
     "name": "stdout",
     "output_type": "stream",
     "text": [
      "Sum of two dice: 9\n",
      "die1 in main() start as : 10\n",
      "Sum of two dice: 5\n",
      "Sum of two dice: 7\n",
      "Sum of two dice: 6\n",
      "die1 in main() is: 10\n"
     ]
    }
   ],
   "source": [
    "import random\n",
    "def rand_dice():\n",
    "    die1 : int = random.randint(1,6)\n",
    "    die2 : int = random.randint(1,6)\n",
    "    total : int = die1 + die2\n",
    "    print(\"Sum of two dice: \" + str(total))\n",
    "rand_dice()\n",
    "\n",
    "def main():\n",
    "    die1 : int = 10\n",
    "    print(\"die1 in main() start as : \" +  str(die1))\n",
    "    rand_dice()\n",
    "    rand_dice()\n",
    "    rand_dice()\n",
    "    print(\"die1 in main() is: \" + str(die1))\n",
    "\n",
    "if __name__ == \"__main__\":\n",
    "    main()    "
   ]
  },
  {
   "cell_type": "markdown",
   "id": "faf2355d-8e20-4afa-942c-183753ba0459",
   "metadata": {},
   "source": [
    "## 02_e=mc2"
   ]
  },
  {
   "cell_type": "code",
   "execution_count": 41,
   "id": "add6dfcb-52f8-4719-a909-bf7b3125c923",
   "metadata": {},
   "outputs": [
    {
     "name": "stdin",
     "output_type": "stream",
     "text": [
      "Enter mass in kilos:  123\n"
     ]
    },
    {
     "name": "stdout",
     "output_type": "stream",
     "text": [
      "e = m*c^2\n",
      "Mass =  123.0 kg\n",
      "C =  299792458 m/s\n",
      "e =  1.1054688698462857e+19 jules\n"
     ]
    }
   ],
   "source": [
    "def energy():\n",
    "    c : int = 299792458\n",
    "    m : float = float(input(\"Enter mass in kilos: \"))\n",
    "    print(\"e = m*c^2\")\n",
    "    print(\"Mass = \",m , \"kg\")\n",
    "    print(\"C = \", c , \"m/s\")\n",
    "    print(\"e = \", float(m * c**2),\"jules\")\n",
    "\n",
    "if __name__ == \"__main__\":\n",
    "    energy()"
   ]
  },
  {
   "cell_type": "markdown",
   "id": "7fe95b9b-2783-4bfe-bedd-a2c30a15b3c3",
   "metadata": {},
   "source": [
    "## 03_feet_to_inches"
   ]
  },
  {
   "cell_type": "code",
   "execution_count": 46,
   "id": "b294ca4f-0007-428f-8b87-ce207a7198aa",
   "metadata": {},
   "outputs": [
    {
     "name": "stdin",
     "output_type": "stream",
     "text": [
      "Enter Feet:  60\n"
     ]
    },
    {
     "name": "stdout",
     "output_type": "stream",
     "text": [
      "720 inches are there in 60 feet.\n"
     ]
    }
   ],
   "source": [
    "inch1 : int = 12\n",
    "\n",
    "\n",
    "def foot():\n",
    "    feet : int = int(input(\"Enter Feet: \"))\n",
    "    print(f'{inch1*feet} inches are there in {feet} feet.')\n",
    "\n",
    "if __name__ == \"__main__\":\n",
    "    foot()"
   ]
  },
  {
   "cell_type": "markdown",
   "id": "7def18be-0bba-4101-9e17-762e6faf6668",
   "metadata": {},
   "source": [
    "## 04_pythagorean_theorem"
   ]
  },
  {
   "cell_type": "code",
   "execution_count": 51,
   "id": "74704372-ccae-482e-8c63-6b3ae778c21d",
   "metadata": {},
   "outputs": [
    {
     "name": "stdin",
     "output_type": "stream",
     "text": [
      "Enter the length of AB:  12\n",
      "Enter the length of AC:  23\n"
     ]
    },
    {
     "name": "stdout",
     "output_type": "stream",
     "text": [
      "The length of BC is: 25.942243542145693\n"
     ]
    }
   ],
   "source": [
    "import math\n",
    "\n",
    "def right_triangle():\n",
    "    ab : float = float(input(\"Enter the length of AB: \"))\n",
    "    ac : float = float(input(\"Enter the length of AC: \"))\n",
    "    bc : flaot = math.sqrt(ab**2 + ac**2)\n",
    "    print(f'The length of BC is: {bc}')\n",
    "\n",
    "if __name__ == \"__main__\":\n",
    "    right_triangle()\n",
    "    "
   ]
  },
  {
   "cell_type": "markdown",
   "id": "b085ba8f-4bbf-41f7-9ead-fe298c81ee02",
   "metadata": {},
   "source": [
    "## 05_remainder_division"
   ]
  },
  {
   "cell_type": "code",
   "execution_count": 64,
   "id": "1494fc70-2647-43be-b521-2a3e69c20b15",
   "metadata": {},
   "outputs": [
    {
     "name": "stdin",
     "output_type": "stream",
     "text": [
      "Enter the number to be divided:  45\n",
      "Enter second number to be divided:  4\n"
     ]
    },
    {
     "name": "stdout",
     "output_type": "stream",
     "text": [
      "The division of this is 11 with the remainder 1\n"
     ]
    }
   ],
   "source": [
    "def reminder_division():\n",
    "    num1 : int = int(input(\"Enter the number to be divided: \"))\n",
    "    num2 : int = int(input(\"Enter second number to be divided: \"))\n",
    "    divide : int = num1 // num2\n",
    "    remainder : int = num1 % num2\n",
    "    print(f'The division of this is {divide} with the remainder {remainder}')\n",
    "\n",
    "if __name__ == \"__main__\":\n",
    "    reminder_division()"
   ]
  },
  {
   "cell_type": "markdown",
   "id": "e5b40701-85d6-48af-99b0-ccea92489e6a",
   "metadata": {},
   "source": [
    "## 06_rolldice"
   ]
  },
  {
   "cell_type": "code",
   "execution_count": 73,
   "id": "109addd4-0d7d-4220-9724-f79c4ef90fdf",
   "metadata": {},
   "outputs": [
    {
     "name": "stdout",
     "output_type": "stream",
     "text": [
      "First number of dice roll:  6\n",
      "Second number of dice roll:  5\n",
      "Total od two dices:  11\n"
     ]
    }
   ],
   "source": [
    "import random\n",
    "\n",
    "def dice():\n",
    "    dice1: int = random.randint(1,6)\n",
    "    dice2 : int = random.randint(1,6)\n",
    "    total : int = dice1 + dice2\n",
    "    print(\"First number of dice roll: \", dice1)\n",
    "    print(\"Second number of dice roll: \", dice2)\n",
    "    print(\"Total od two dices: \", total)\n",
    "\n",
    "if __name__ == \"__main__\":\n",
    "    dice()"
   ]
  },
  {
   "cell_type": "markdown",
   "id": "90acedd1-2104-4e6c-95ae-f55501d20115",
   "metadata": {},
   "source": [
    "## 06_seconds_in_year"
   ]
  },
  {
   "cell_type": "code",
   "execution_count": 78,
   "id": "3741456e-c4ef-4d25-ab9d-81d2980688fa",
   "metadata": {},
   "outputs": [
    {
     "name": "stdout",
     "output_type": "stream",
     "text": [
      "There are 31536000 seconds in a year.\n"
     ]
    }
   ],
   "source": [
    "def seconds():\n",
    "    days : int = 365\n",
    "    hours : int = 24\n",
    "    minutes : int = 60\n",
    "    seconds_ : int = 60\n",
    "    print(f\"There are {days * hours * minutes * seconds_} seconds in a year.\")\n",
    "\n",
    "if __name__ == \"__main__\":\n",
    "    seconds()"
   ]
  },
  {
   "cell_type": "markdown",
   "id": "0429a5bb-ddca-4b29-bcd9-f44bb81564d6",
   "metadata": {},
   "source": [
    "## 07_tiny_mad_lib"
   ]
  },
  {
   "cell_type": "code",
   "execution_count": 85,
   "id": "2293cef9-3d3e-4567-96e9-261a1fc8dccf",
   "metadata": {},
   "outputs": [
    {
     "name": "stdin",
     "output_type": "stream",
     "text": [
      "Enter an Adjective:  fast\n",
      "Enter a noun:  dog\n",
      "Enter a verb:  run\n"
     ]
    },
    {
     "name": "stdout",
     "output_type": "stream",
     "text": [
      "This dog can run fast!\n"
     ]
    }
   ],
   "source": [
    "def mad_lib():\n",
    "    adj : str = str(input(\"Enter an Adjective: \"))\n",
    "    noun : str = str(input(\"Enter a noun: \"))\n",
    "    verb : str = str(input(\"Enter a verb: \"))\n",
    "    print(f'This {noun} can {verb} {adj}!')\n",
    "\n",
    "if __name__ == \"__main__\":\n",
    "    mad_lib()\n",
    "    "
   ]
  },
  {
   "cell_type": "code",
   "execution_count": null,
   "id": "714969f8-e0d2-4ec4-9176-30887978e760",
   "metadata": {},
   "outputs": [],
   "source": []
  }
 ],
 "metadata": {
  "kernelspec": {
   "display_name": "Python [conda env:MachineLearning]",
   "language": "python",
   "name": "conda-env-MachineLearning-py"
  },
  "language_info": {
   "codemirror_mode": {
    "name": "ipython",
    "version": 3
   },
   "file_extension": ".py",
   "mimetype": "text/x-python",
   "name": "python",
   "nbconvert_exporter": "python",
   "pygments_lexer": "ipython3",
   "version": "3.11.11"
  }
 },
 "nbformat": 4,
 "nbformat_minor": 5
}
