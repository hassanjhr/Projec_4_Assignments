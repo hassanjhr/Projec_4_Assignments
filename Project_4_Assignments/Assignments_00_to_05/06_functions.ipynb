{
 "cells": [
  {
   "cell_type": "markdown",
   "id": "695b7966-67d6-4dc0-8ebb-72717eaa4f34",
   "metadata": {},
   "source": [
    "## 00_averages"
   ]
  },
  {
   "cell_type": "code",
   "execution_count": 6,
   "id": "6dc5b352-9848-4402-b0ed-6248db2a2ce7",
   "metadata": {},
   "outputs": [
    {
     "name": "stdin",
     "output_type": "stream",
     "text": [
      "Enter the first number:  2\n",
      "Enter the second number:  3\n"
     ]
    },
    {
     "name": "stdout",
     "output_type": "stream",
     "text": [
      "The average of 2.0 and 3.0 is: 2.5\n"
     ]
    }
   ],
   "source": [
    "def find_average(num1: float, num2: float) -> float:\n",
    "    average = (num1 + num2) / 2\n",
    "    return average\n",
    "\n",
    "def main():\n",
    "    num1 = float(input(\"Enter the first number: \"))\n",
    "    num2 = float(input(\"Enter the second number: \"))\n",
    "    \n",
    "    avg = find_average(num1, num2)\n",
    "    print(f\"The average of {num1} and {num2} is: {avg}\")\n",
    "\n",
    "if __name__ == '__main__':\n",
    "    main()"
   ]
  },
  {
   "cell_type": "markdown",
   "id": "869cfcfe-0a27-43af-abc6-7611e550b230",
   "metadata": {},
   "source": [
    "## 01_chaotic_counting"
   ]
  },
  {
   "cell_type": "code",
   "execution_count": 20,
   "id": "50a3d102-ad06-4852-9536-debb39713444",
   "metadata": {},
   "outputs": [
    {
     "name": "stdout",
     "output_type": "stream",
     "text": [
      "I'm going to count until 10 or until I feel like stopping, whichever comes first.\n",
      "1 2 3 \n",
      "I'm done.\n"
     ]
    }
   ],
   "source": [
    "import random\n",
    "\n",
    "DONE_LIKELIHOOD = 0.3  # 30% chance to stop counting\n",
    "\n",
    "def done():\n",
    "    # Returns True with probability DONE_LIKELIHOOD\n",
    "    return random.random() < DONE_LIKELIHOOD\n",
    "\n",
    "def chaotic_counting():\n",
    "    for number in range(1, 11):\n",
    "        if done():\n",
    "            return  # Stop counting early\n",
    "        print(number, end=' ')\n",
    "    # If loop finishes, just return normally\n",
    "\n",
    "def main():\n",
    "    print(\"I'm going to count until 10 or until I feel like stopping, whichever comes first.\")\n",
    "    chaotic_counting()\n",
    "    print(\"\\nI'm done.\")\n",
    "\n",
    "if __name__ == '__main__':\n",
    "    main()"
   ]
  },
  {
   "cell_type": "markdown",
   "id": "53c4d002-33d6-4a5e-9c08-8adb6596fa44",
   "metadata": {},
   "source": [
    "## 02_count_even"
   ]
  },
  {
   "cell_type": "code",
   "execution_count": 31,
   "id": "710960c2-95cb-4f2a-bc3c-eee6256effc8",
   "metadata": {},
   "outputs": [
    {
     "name": "stdin",
     "output_type": "stream",
     "text": [
      "Enter an integer or press enter to stop:  2\n",
      "Enter an integer or press enter to stop:  1\n",
      "Enter an integer or press enter to stop:  4\n",
      "Enter an integer or press enter to stop:  6\n",
      "Enter an integer or press enter to stop:  8\n",
      "Enter an integer or press enter to stop:  6\n",
      "Enter an integer or press enter to stop:  4\n",
      "Enter an integer or press enter to stop:  2\n",
      "Enter an integer or press enter to stop:  \n"
     ]
    },
    {
     "name": "stdout",
     "output_type": "stream",
     "text": [
      "There are 7 even numbers.\n"
     ]
    }
   ],
   "source": [
    "def count_even(lst):\n",
    "    count = 0\n",
    "    for num in lst:\n",
    "        if num % 2 == 0:\n",
    "            count += 1\n",
    "    print(f\"There are {count} even numbers.\")\n",
    "\n",
    "def main():\n",
    "    numbers = []\n",
    "    while True:\n",
    "        user_input = input(\"Enter an integer or press enter to stop: \")\n",
    "        if user_input == \"\":\n",
    "            break\n",
    "        numbers.append(int(user_input))\n",
    "    \n",
    "    count_even(numbers)\n",
    "\n",
    "if __name__ == '__main__':\n",
    "    main()\n"
   ]
  },
  {
   "cell_type": "markdown",
   "id": "00d1b618-3b1e-491e-948a-12953fa1989b",
   "metadata": {},
   "source": [
    "## 04_double"
   ]
  },
  {
   "cell_type": "code",
   "execution_count": 45,
   "id": "52411ecc-8b63-47c7-b347-891dd4a20f9e",
   "metadata": {},
   "outputs": [
    {
     "name": "stdin",
     "output_type": "stream",
     "text": [
      "Enter a number:  3\n"
     ]
    },
    {
     "name": "stdout",
     "output_type": "stream",
     "text": [
      "Double that is 6\n"
     ]
    }
   ],
   "source": [
    "def double(num)->int:\n",
    "    return num * 2\n",
    "\n",
    "def main():\n",
    "    user_input = int(input(\"Enter a number: \"))\n",
    "    result = double(user_input)\n",
    "    print(\"Double that is\", result)\n",
    "\n",
    "if __name__ == '__main__':\n",
    "    main()"
   ]
  },
  {
   "cell_type": "markdown",
   "id": "85a33f65-7ef5-4012-8535-837b12f931b0",
   "metadata": {},
   "source": [
    "## 05_get_name"
   ]
  },
  {
   "cell_type": "code",
   "execution_count": 50,
   "id": "20a2194f-7f74-4ef8-a498-7161379a2c30",
   "metadata": {},
   "outputs": [
    {
     "name": "stdin",
     "output_type": "stream",
     "text": [
      "Enter your name:  Hassan\n"
     ]
    },
    {
     "name": "stdout",
     "output_type": "stream",
     "text": [
      "Howdy Hassan ! 🤠\n"
     ]
    }
   ],
   "source": [
    "def get_name():\n",
    "    name = input(\"Enter your name: \")\n",
    "    return name\n",
    "\n",
    "def main():\n",
    "    name = get_name()\n",
    "    print(f\"Howdy {name} ! 🤠\")\n",
    "\n",
    "if __name__ == '__main__':\n",
    "    main()"
   ]
  },
  {
   "cell_type": "markdown",
   "id": "a8075b2b-659b-4f2d-b2d4-3e5f1c0d4382",
   "metadata": {},
   "source": [
    "## 06_is_odd"
   ]
  },
  {
   "cell_type": "code",
   "execution_count": 79,
   "id": "b34fa05f-d98c-4f4a-9906-e07f4ee6504e",
   "metadata": {},
   "outputs": [
    {
     "name": "stdin",
     "output_type": "stream",
     "text": [
      "Enter a number:  45\n"
     ]
    },
    {
     "name": "stdout",
     "output_type": "stream",
     "text": [
      "45 is an odd number\n"
     ]
    }
   ],
   "source": [
    "def check_odd(num):\n",
    "    if num % 2 != 0:\n",
    "        print(f\"{num} is an odd number\")\n",
    "    else:\n",
    "        print(f\"{num} not an odd number\")\n",
    "\n",
    "def main():\n",
    "    number = int(input(\"Enter a number: \"))\n",
    "    check_odd(number)\n",
    "\n",
    "if __name__ == '__main__':\n",
    "    main()"
   ]
  },
  {
   "cell_type": "markdown",
   "id": "b091eae0-a494-4bbf-9023-4fb84803dc9d",
   "metadata": {},
   "source": [
    "## 07_print_divisor"
   ]
  },
  {
   "cell_type": "code",
   "execution_count": 88,
   "id": "802f8724-f09a-4887-8039-bc42b0641e17",
   "metadata": {},
   "outputs": [
    {
     "name": "stdin",
     "output_type": "stream",
     "text": [
      "Enter a number:  55\n"
     ]
    },
    {
     "name": "stdout",
     "output_type": "stream",
     "text": [
      "Here are the divisors of 55\n",
      "1 5 11 55 \n"
     ]
    }
   ],
   "source": [
    "def print_divisors(num):\n",
    "    print(f\"Here are the divisors of {num}\")\n",
    "    for i in range(num):\n",
    "        curr_divisor = i + 1\n",
    "        if num % curr_divisor == 0:\n",
    "            print(curr_divisor, end=' ')\n",
    "    print() \n",
    "\n",
    "def main():\n",
    "    number = int(input(\"Enter a number: \"))\n",
    "    print_divisors(number)\n",
    "\n",
    "if __name__ == '__main__':\n",
    "    main()"
   ]
  },
  {
   "cell_type": "markdown",
   "id": "1638a22d-5f38-4179-a1f6-80c96724a2e1",
   "metadata": {},
   "source": [
    "## 08_print_multiple"
   ]
  },
  {
   "cell_type": "code",
   "execution_count": 103,
   "id": "68dd2be1-1834-465a-84f9-d812e0d9bb4a",
   "metadata": {},
   "outputs": [
    {
     "name": "stdin",
     "output_type": "stream",
     "text": [
      "Please type a message:  Red\n",
      "Enter a number of times to repeat your message:  3\n"
     ]
    },
    {
     "name": "stdout",
     "output_type": "stream",
     "text": [
      "Red Red Red \n"
     ]
    }
   ],
   "source": [
    "def print_multiple(message, repeats):\n",
    "    for i in range(repeats):\n",
    "        print(message, end=' ')\n",
    "    print()  \n",
    "\n",
    "def main():\n",
    "    message = input(\"Please type a message: \")\n",
    "    repeats = int(input(\"Enter a number of times to repeat your message: \"))\n",
    "    print_multiple(message, repeats)\n",
    "\n",
    "if __name__ == '__main__':\n",
    "    main()"
   ]
  },
  {
   "cell_type": "markdown",
   "id": "02af03fd-438c-4a19-b1cb-26bf77cda93e",
   "metadata": {},
   "source": [
    "## 09_sentence_generator"
   ]
  },
  {
   "cell_type": "code",
   "execution_count": 108,
   "id": "ba6fd4ab-8ee0-4b46-b6a2-e6244701b89a",
   "metadata": {},
   "outputs": [
    {
     "name": "stdin",
     "output_type": "stream",
     "text": [
      "Please type a noun, verb, or adjective:  run\n",
      "Is this a noun, verb, or adjective? Type 0 for noun, 1 for verb, 2 for adjective:  1\n"
     ]
    },
    {
     "name": "stdout",
     "output_type": "stream",
     "text": [
      "It's so nice outside today it makes me want to run!\n"
     ]
    }
   ],
   "source": [
    "def make_sentence(word, part_of_speech):\n",
    "    if part_of_speech == 0:\n",
    "        print(f\"I am excited to add this {word} to my vast collection of them!\")\n",
    "    elif part_of_speech == 1:\n",
    "        print(f\"It's so nice outside today it makes me want to {word}!\")\n",
    "    elif part_of_speech == 2:\n",
    "        print(f\"Looking out my window, the sky is big and {word}!\")\n",
    "    else:\n",
    "        print(\"Invalid part of speech. Please enter 0, 1, or 2.\")\n",
    "\n",
    "def main():\n",
    "    word = input(\"Please type a noun, verb, or adjective: \")\n",
    "    part_of_speech = int(input(\"Is this a noun, verb, or adjective? Type 0 for noun, 1 for verb, 2 for adjective: \"))\n",
    "    make_sentence(word, part_of_speech)\n",
    "\n",
    "if __name__ == '__main__':\n",
    "    main()"
   ]
  },
  {
   "cell_type": "markdown",
   "id": "558719f7-5818-476d-963f-892e015c17e0",
   "metadata": {},
   "source": [
    "## 10_print_ones_digit"
   ]
  },
  {
   "cell_type": "code",
   "execution_count": 123,
   "id": "9540ca11-d0dd-4a3e-ab19-6acf97a3a423",
   "metadata": {},
   "outputs": [
    {
     "name": "stdin",
     "output_type": "stream",
     "text": [
      "Enter a number:  23\n"
     ]
    },
    {
     "name": "stdout",
     "output_type": "stream",
     "text": [
      "The ones digit is 3\n"
     ]
    }
   ],
   "source": [
    "def print_ones_digit(num):\n",
    "    ones_digit : int = num % 10\n",
    "    print(\"The ones digit is\", ones_digit)\n",
    "\n",
    "def main():\n",
    "    user_input = input(\"Enter a number: \")\n",
    "    num = int(user_input)\n",
    "    print_ones_digit(num)\n",
    "\n",
    "if __name__ == '__main__':\n",
    "    main()"
   ]
  }
 ],
 "metadata": {
  "kernelspec": {
   "display_name": "Python [conda env:MachineLearning]",
   "language": "python",
   "name": "conda-env-MachineLearning-py"
  },
  "language_info": {
   "codemirror_mode": {
    "name": "ipython",
    "version": 3
   },
   "file_extension": ".py",
   "mimetype": "text/x-python",
   "name": "python",
   "nbconvert_exporter": "python",
   "pygments_lexer": "ipython3",
   "version": "3.11.11"
  }
 },
 "nbformat": 4,
 "nbformat_minor": 5
}
