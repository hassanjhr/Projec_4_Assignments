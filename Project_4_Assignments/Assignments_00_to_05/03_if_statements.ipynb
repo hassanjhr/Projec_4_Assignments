{
 "cells": [
  {
   "cell_type": "markdown",
   "id": "53edd2bc-2d65-42dd-b582-decb5c35bb4f",
   "metadata": {},
   "source": [
    "## 01_print_events."
   ]
  },
  {
   "cell_type": "code",
   "execution_count": 11,
   "id": "70b50529-eabd-4280-993e-eba64cfe5936",
   "metadata": {},
   "outputs": [
    {
     "name": "stdout",
     "output_type": "stream",
     "text": [
      "0\n",
      "2\n",
      "4\n",
      "6\n",
      "8\n",
      "10\n",
      "12\n",
      "14\n",
      "16\n",
      "18\n",
      "20\n",
      "22\n",
      "24\n",
      "26\n",
      "28\n",
      "30\n",
      "32\n",
      "34\n",
      "36\n",
      "38\n"
     ]
    }
   ],
   "source": [
    "def main():\n",
    "    for i in range(20):\n",
    "        even = i * 2\n",
    "        print(even) \n",
    "        \n",
    "if __name__ == \"__main__\":\n",
    "    main()"
   ]
  },
  {
   "cell_type": "markdown",
   "id": "4b0e9cd3-ca37-402f-ad7d-495fd68fbf5c",
   "metadata": {},
   "source": [
    "## 02_international_voting_age."
   ]
  },
  {
   "cell_type": "code",
   "execution_count": 22,
   "id": "cb7b1ff8-5170-493d-8d3e-0598a0449619",
   "metadata": {},
   "outputs": [
    {
     "name": "stdin",
     "output_type": "stream",
     "text": [
      "How old are you?  33\n"
     ]
    },
    {
     "name": "stdout",
     "output_type": "stream",
     "text": [
      "You can vote in Peturksbouipo where the voting age is 16.\n",
      "You can vote in Stanlau where the voting age is 25.\n",
      "You cannot vote in Mayengua where the voting age is 48.\n"
     ]
    }
   ],
   "source": [
    "PETURKSBOUIPO_AGE : int = 16\n",
    "STANLAU_AGE : int = 25\n",
    "MAYENGUA_AGE : int = 48\n",
    "\n",
    "def main():\n",
    "    user_age = int(input(\"How old are you? \"))\n",
    "\n",
    "    if user_age >= PETURKSBOUIPO_AGE:\n",
    "        print(f\"You can vote in Peturksbouipo where the voting age is {PETURKSBOUIPO_AGE}.\")\n",
    "    else:\n",
    "        print(f\"You cannot vote in Peturksbouipo where the voting age is {PETURKSBOUIPO_AGE}.\")\n",
    "    \n",
    "    if user_age >= STANLAU_AGE:\n",
    "        print(f\"You can vote in Stanlau where the voting age is {STANLAU_AGE}.\")\n",
    "    else:\n",
    "        print(f\"You cannot vote in Stanlau where the voting age is {STANLAU_AGE}.\")\n",
    "    \n",
    "    if user_age >= MAYENGUA_AGE:\n",
    "        print(f\"You can vote in Mayengua where the voting age is {MAYENGUA_AGE}.\")\n",
    "    else:\n",
    "        print(f\"You cannot vote in Mayengua where the voting age is {MAYENGUA_AGE}.\")\n",
    "        \n",
    "\n",
    "if __name__ == '__main__':\n",
    "    main()"
   ]
  },
  {
   "cell_type": "markdown",
   "id": "fa3b87ae-99a8-40be-9e7b-5245bbb2ce8d",
   "metadata": {},
   "source": [
    "## 03_leap_year"
   ]
  },
  {
   "cell_type": "code",
   "execution_count": 33,
   "id": "67b8e21c-155e-49ad-acad-9f09b4c19d29",
   "metadata": {},
   "outputs": [
    {
     "name": "stdin",
     "output_type": "stream",
     "text": [
      "Please input a year:  1992\n"
     ]
    },
    {
     "name": "stdout",
     "output_type": "stream",
     "text": [
      "1992 is a leap year!\n"
     ]
    }
   ],
   "source": [
    "def leap_year():\n",
    "    year = int(input('Please input a year: '))\n",
    "\n",
    "    if year % 4 == 0: \n",
    "        if year % 100 == 0: \n",
    "            if year % 400 == 0: \n",
    "                print(f\"{year} is a leap year!\")\n",
    "            else:  \n",
    "                print(f\"{year} is not a leap year.\")\n",
    "        else: \n",
    "            print(f\"{year} is a leap year!\")\n",
    "    else: \n",
    "        print(f\"{year} is not a leap year.\")\n",
    "\n",
    "if __name__ == '__main__':\n",
    "    leap_year()"
   ]
  },
  {
   "cell_type": "markdown",
   "id": "5ccaaf29-578c-40cc-9178-5b457ed80c8b",
   "metadata": {},
   "source": [
    "## 04_tall_enough_to_ride."
   ]
  },
  {
   "cell_type": "code",
   "execution_count": 41,
   "id": "e96d5f27-d38f-4ad6-b03b-8939ef77de11",
   "metadata": {},
   "outputs": [
    {
     "name": "stdin",
     "output_type": "stream",
     "text": [
      "How tall are you?  45\n"
     ]
    },
    {
     "name": "stdout",
     "output_type": "stream",
     "text": [
      "You're not tall enough to ride as your height is 45.0, but maybe next year!\n"
     ]
    }
   ],
   "source": [
    "mininun : int = 50\n",
    "\n",
    "def main():\n",
    "    height = float(input(\"How tall are you? \"))\n",
    "    if height >= MINIMUM_HEIGHT:\n",
    "        print(f\"You're tall enough to ride as your height is {height}!\")\n",
    "    else:\n",
    "        print(f\"You're not tall enough to ride as your height is {height}, but maybe next year!\")\n",
    "\n",
    "if __name__ == '__main__':\n",
    "    main()"
   ]
  },
  {
   "cell_type": "markdown",
   "id": "3ff3e5fb-d605-49e9-9388-dfd17788d778",
   "metadata": {},
   "source": [
    "## 05_random_numbers"
   ]
  },
  {
   "cell_type": "code",
   "execution_count": 48,
   "id": "0f9630b7-956b-49a4-9e9a-002c21d52085",
   "metadata": {},
   "outputs": [
    {
     "name": "stdout",
     "output_type": "stream",
     "text": [
      "33\n",
      "1\n",
      "38\n",
      "7\n",
      "86\n"
     ]
    }
   ],
   "source": [
    "import random\n",
    "\n",
    "def random_number():\n",
    "  for i in range(5):\n",
    "    numbers:list[int] =  random.randint(1,100)\n",
    "    print(numbers)\n",
    "\n",
    "if __name__ == \"__main__\":\n",
    "  random_number()\n",
    "     "
   ]
  }
 ],
 "metadata": {
  "kernelspec": {
   "display_name": "Python [conda env:MachineLearning]",
   "language": "python",
   "name": "conda-env-MachineLearning-py"
  },
  "language_info": {
   "codemirror_mode": {
    "name": "ipython",
    "version": 3
   },
   "file_extension": ".py",
   "mimetype": "text/x-python",
   "name": "python",
   "nbconvert_exporter": "python",
   "pygments_lexer": "ipython3",
   "version": "3.11.11"
  }
 },
 "nbformat": 4,
 "nbformat_minor": 5
}
