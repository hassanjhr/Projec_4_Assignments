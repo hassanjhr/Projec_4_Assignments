{
 "cells": [
  {
   "cell_type": "markdown",
   "id": "0dc92f2c-28fa-4bb7-bec2-24533ffe6e6a",
   "metadata": {},
   "source": [
    "## 00_guess_my_number"
   ]
  },
  {
   "cell_type": "code",
   "execution_count": 8,
   "id": "ed8c19cf-38f9-4d3b-a7a2-b46c342c9ac1",
   "metadata": {},
   "outputs": [
    {
     "name": "stdout",
     "output_type": "stream",
     "text": [
      "I am thinking of a number between 1 and 99...\n"
     ]
    },
    {
     "name": "stdin",
     "output_type": "stream",
     "text": [
      "Enter a guess:  60\n"
     ]
    },
    {
     "name": "stdout",
     "output_type": "stream",
     "text": [
      "Your guess is too high\n"
     ]
    },
    {
     "name": "stdin",
     "output_type": "stream",
     "text": [
      "Enter a new guess:  50\n"
     ]
    },
    {
     "name": "stdout",
     "output_type": "stream",
     "text": [
      "Your guess is too low\n"
     ]
    },
    {
     "name": "stdin",
     "output_type": "stream",
     "text": [
      "Enter a new guess:  53\n"
     ]
    },
    {
     "name": "stdout",
     "output_type": "stream",
     "text": [
      "Your guess is too low\n"
     ]
    },
    {
     "name": "stdin",
     "output_type": "stream",
     "text": [
      "Enter a new guess:  54\n"
     ]
    },
    {
     "name": "stdout",
     "output_type": "stream",
     "text": [
      "Your guess is too low\n"
     ]
    },
    {
     "name": "stdin",
     "output_type": "stream",
     "text": [
      "Enter a new guess:  55\n"
     ]
    },
    {
     "name": "stdout",
     "output_type": "stream",
     "text": [
      "Congrats! The number was: 55\n"
     ]
    }
   ],
   "source": [
    "import random\n",
    "\n",
    "def main():\n",
    "    secret_number = random.randint(1, 99)\n",
    "    \n",
    "    print(\"I am thinking of a number between 1 and 99...\")\n",
    "    \n",
    "    guess = int(input(\"Enter a guess: \"))\n",
    "\n",
    "    while guess != secret_number:\n",
    "        if guess < secret_number:\n",
    "            print(\"Your guess is too low\")\n",
    "        else:\n",
    "            print(\"Your guess is too high\")\n",
    "        \n",
    "        guess = int(input(\"Enter a new guess: \"))\n",
    "    \n",
    "    print(f\"Congrats! The number was: {secret_number}\")\n",
    "\n",
    "if __name__ == '__main__':\n",
    "    main()\n"
   ]
  },
  {
   "cell_type": "markdown",
   "id": "3244523d-c6d9-4610-9c51-8d4f7ef52bfc",
   "metadata": {},
   "source": [
    "## 01_fibonacci"
   ]
  },
  {
   "cell_type": "code",
   "execution_count": 16,
   "id": "44570366-f976-4566-97c7-3133298d7da6",
   "metadata": {},
   "outputs": [
    {
     "name": "stdout",
     "output_type": "stream",
     "text": [
      "0 1 1 2 3 5 8 13 21 34 55 89 144 233 377 610 987 1597 2584 4181 6765 "
     ]
    }
   ],
   "source": [
    "MAX_TERM_VALUE = 10000\n",
    "\n",
    "def main():\n",
    "    curr = 0\n",
    "    next = 1\n",
    "    while curr <= MAX_TERM_VALUE:\n",
    "        print(curr, end=\" \")\n",
    "        curr, next = next, curr + next\n",
    "\n",
    "if __name__ == '__main__':\n",
    "    main()"
   ]
  },
  {
   "cell_type": "markdown",
   "id": "992139ab-10f8-449a-9f67-54b7e0f1d0a9",
   "metadata": {},
   "source": [
    "## 02_print_events"
   ]
  },
  {
   "cell_type": "code",
   "execution_count": 22,
   "id": "d54fd201-06d0-4335-987e-9f26260680d4",
   "metadata": {},
   "outputs": [
    {
     "name": "stdout",
     "output_type": "stream",
     "text": [
      "0 2 4 6 8 10 12 14 16 18 20 22 24 26 28 30 32 34 36 38 "
     ]
    }
   ],
   "source": [
    "def main():\n",
    "    for i in range(20):\n",
    "        print(i * 2, end=\" \") \n",
    "   \n",
    "if __name__ == \"__main__\":\n",
    "    main()"
   ]
  },
  {
   "cell_type": "markdown",
   "id": "f944bc3b-b018-4ddf-925b-62a0829796ce",
   "metadata": {},
   "source": [
    "## 03_wholesome_machine"
   ]
  },
  {
   "cell_type": "code",
   "execution_count": 30,
   "id": "0c9c1361-ffc5-429a-9e5d-8920bd9c76bc",
   "metadata": {},
   "outputs": [
    {
     "name": "stdout",
     "output_type": "stream",
     "text": [
      "Please type the following affirmation: I am capable of doing anything I put my mind to.\n"
     ]
    },
    {
     "name": "stdin",
     "output_type": "stream",
     "text": [
      " ok\n"
     ]
    },
    {
     "name": "stdout",
     "output_type": "stream",
     "text": [
      "Hmmm That was not the affirmation.\n",
      "Please type the following affirmation: I am capable of doing anything I put my mind to.\n"
     ]
    },
    {
     "name": "stdin",
     "output_type": "stream",
     "text": [
      " I am capable of doing anything I put my mind to\n"
     ]
    },
    {
     "name": "stdout",
     "output_type": "stream",
     "text": [
      "Hmmm That was not the affirmation.\n",
      "Please type the following affirmation: I am capable of doing anything I put my mind to.\n"
     ]
    },
    {
     "name": "stdin",
     "output_type": "stream",
     "text": [
      " I am capable of doing anything I put my mind to.\n"
     ]
    },
    {
     "name": "stdout",
     "output_type": "stream",
     "text": [
      "That's right! :)\n"
     ]
    }
   ],
   "source": [
    "def main():\n",
    "    affirmation = \"I am capable of doing anything I put my mind to.\"\n",
    "    \n",
    "    print(f\"Please type the following affirmation: {affirmation}\")\n",
    "    user_input = input()\n",
    "    \n",
    "    while user_input != affirmation:\n",
    "        print(\"Hmmm That was not the affirmation.\")\n",
    "        print(f\"Please type the following affirmation: {affirmation}\")\n",
    "        user_input = input()\n",
    "        \n",
    "    print(\"That's right! :)\")\n",
    "\n",
    "if __name__ == '__main__':\n",
    "    main()"
   ]
  },
  {
   "cell_type": "markdown",
   "id": "0d97bd5c-773e-4d21-a28e-5932fae179f9",
   "metadata": {},
   "source": [
    "## 04_liftoff"
   ]
  },
  {
   "cell_type": "code",
   "execution_count": 40,
   "id": "76e77fe1-4b49-4584-93d7-fa48f7bce88a",
   "metadata": {},
   "outputs": [
    {
     "name": "stdout",
     "output_type": "stream",
     "text": [
      "10 9 8 7 6 5 4 3 2 1 Liftoff!\n"
     ]
    }
   ],
   "source": [
    "def main():\n",
    "    for i in range(10):\n",
    "        print(10 - i, end=\" \")\n",
    "    print(\"Liftoff!\")\n",
    "\n",
    "if __name__ == '__main__':\n",
    "    main()"
   ]
  },
  {
   "cell_type": "code",
   "execution_count": 44,
   "id": "5110de8c-0916-4006-8994-1e00d8b3d89f",
   "metadata": {},
   "outputs": [
    {
     "name": "stdout",
     "output_type": "stream",
     "text": [
      "10 9 8 7 6 5 4 3 2 1 Liftoff!\n"
     ]
    }
   ],
   "source": [
    "\n",
    "def main():\n",
    "    for i in range(10,0,-1):\n",
    "        print(i, end=\" \")\n",
    "    print(\"Liftoff!\")\n",
    "\n",
    "if __name__ == '__main__':\n",
    "    main()"
   ]
  },
  {
   "cell_type": "markdown",
   "id": "78d0aee6-ae32-4456-bdc3-39de5a2f0650",
   "metadata": {},
   "source": [
    "## 05_double_it"
   ]
  },
  {
   "cell_type": "code",
   "execution_count": 59,
   "id": "405cffc8-9ffc-4338-ac54-f7be6164b5ea",
   "metadata": {},
   "outputs": [
    {
     "name": "stdin",
     "output_type": "stream",
     "text": [
      "Enter a number:  3\n"
     ]
    },
    {
     "name": "stdout",
     "output_type": "stream",
     "text": [
      "6 12 24 48 96 192 "
     ]
    }
   ],
   "source": [
    "def main():\n",
    "    curr_value = int(input(\"Enter a number: \"))\n",
    "    \n",
    "    while curr_value < 100:\n",
    "        curr_value = curr_value * 2\n",
    "        print(curr_value, end=\" \")\n",
    "\n",
    "if __name__ == '__main__':\n",
    "    main()"
   ]
  }
 ],
 "metadata": {
  "kernelspec": {
   "display_name": "Python [conda env:MachineLearning]",
   "language": "python",
   "name": "conda-env-MachineLearning-py"
  },
  "language_info": {
   "codemirror_mode": {
    "name": "ipython",
    "version": 3
   },
   "file_extension": ".py",
   "mimetype": "text/x-python",
   "name": "python",
   "nbconvert_exporter": "python",
   "pygments_lexer": "ipython3",
   "version": "3.11.11"
  }
 },
 "nbformat": 4,
 "nbformat_minor": 5
}
