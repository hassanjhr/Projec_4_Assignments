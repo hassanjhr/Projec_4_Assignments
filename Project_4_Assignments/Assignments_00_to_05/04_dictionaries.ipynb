{
 "cells": [
  {
   "cell_type": "markdown",
   "id": "60ffaed1-2e63-4cab-81d8-fac6229a9e9d",
   "metadata": {},
   "source": [
    "## 00_count_nums"
   ]
  },
  {
   "cell_type": "code",
   "execution_count": 1,
   "id": "e2c4c2f3-c1a3-469c-af0e-aeabd3909d2e",
   "metadata": {},
   "outputs": [
    {
     "name": "stdin",
     "output_type": "stream",
     "text": [
      "Enter a number (or 'Exit' to quit):  1\n"
     ]
    },
    {
     "name": "stdout",
     "output_type": "stream",
     "text": [
      "{1: 1}\n"
     ]
    },
    {
     "name": "stdin",
     "output_type": "stream",
     "text": [
      "Enter a number (or 'Exit' to quit):  2\n"
     ]
    },
    {
     "name": "stdout",
     "output_type": "stream",
     "text": [
      "{1: 1, 2: 1}\n"
     ]
    },
    {
     "name": "stdin",
     "output_type": "stream",
     "text": [
      "Enter a number (or 'Exit' to quit):  3\n"
     ]
    },
    {
     "name": "stdout",
     "output_type": "stream",
     "text": [
      "{1: 1, 2: 1, 3: 1}\n"
     ]
    },
    {
     "name": "stdin",
     "output_type": "stream",
     "text": [
      "Enter a number (or 'Exit' to quit):  3\n"
     ]
    },
    {
     "name": "stdout",
     "output_type": "stream",
     "text": [
      "{1: 1, 2: 1, 3: 2}\n"
     ]
    },
    {
     "name": "stdin",
     "output_type": "stream",
     "text": [
      "Enter a number (or 'Exit' to quit):  4\n"
     ]
    },
    {
     "name": "stdout",
     "output_type": "stream",
     "text": [
      "{1: 1, 2: 1, 3: 2, 4: 1}\n"
     ]
    },
    {
     "name": "stdin",
     "output_type": "stream",
     "text": [
      "Enter a number (or 'Exit' to quit):  23\n"
     ]
    },
    {
     "name": "stdout",
     "output_type": "stream",
     "text": [
      "{1: 1, 2: 1, 3: 2, 4: 1, 23: 1}\n"
     ]
    },
    {
     "name": "stdin",
     "output_type": "stream",
     "text": [
      "Enter a number (or 'Exit' to quit):  2\n"
     ]
    },
    {
     "name": "stdout",
     "output_type": "stream",
     "text": [
      "{1: 1, 2: 2, 3: 2, 4: 1, 23: 1}\n"
     ]
    },
    {
     "name": "stdin",
     "output_type": "stream",
     "text": [
      "Enter a number (or 'Exit' to quit):  23\n"
     ]
    },
    {
     "name": "stdout",
     "output_type": "stream",
     "text": [
      "{1: 1, 2: 2, 3: 2, 4: 1, 23: 2}\n"
     ]
    },
    {
     "name": "stdin",
     "output_type": "stream",
     "text": [
      "Enter a number (or 'Exit' to quit):  1\n"
     ]
    },
    {
     "name": "stdout",
     "output_type": "stream",
     "text": [
      "{1: 2, 2: 2, 3: 2, 4: 1, 23: 2}\n"
     ]
    },
    {
     "name": "stdin",
     "output_type": "stream",
     "text": [
      "Enter a number (or 'Exit' to quit):  \n"
     ]
    },
    {
     "name": "stdout",
     "output_type": "stream",
     "text": [
      "Invalid input. Please enter a number or 'Exit'.\n",
      "\n",
      "Number Counts:\n",
      "1 appears 2 times\n",
      "2 appears 2 times\n",
      "3 appears 2 times\n",
      "4 appears 1 times\n",
      "23 appears 2 times\n"
     ]
    }
   ],
   "source": [
    "def count_numbers():\n",
    "    numbers_count = {}\n",
    "\n",
    "    while True:\n",
    "        user_input = input(\"Enter a number (or 'Exit' to quit): \")\n",
    "        if user_input.lower() == 'exit':\n",
    "            break\n",
    "        if user_input.isdigit():\n",
    "            number = int(user_input)\n",
    "            numbers_count[number] = numbers_count.get(number, 0) + 1\n",
    "            print(numbers_count)\n",
    "        else:\n",
    "            print(\"Invalid input. Please enter a number or 'Exit'.\")\n",
    "            return numbers_count\n",
    "\n",
    "def display_counts(numbers_count):\n",
    "    print(\"\\nNumber Counts:\")\n",
    "    for num, cnt in numbers_count.items():\n",
    "        print(f'{num} appears {cnt} times')\n",
    "\n",
    "if __name__ == \"__main__\":\n",
    "    counts = count_numbers()\n",
    "    display_counts(counts)\n"
   ]
  },
  {
   "cell_type": "markdown",
   "id": "7f6e7b81-7149-40ef-a9c9-714de95a364a",
   "metadata": {},
   "source": [
    "## 01_phonebook"
   ]
  },
  {
   "cell_type": "code",
   "execution_count": 4,
   "id": "c91746fe-8218-4181-8ee2-b7162f3a5e35",
   "metadata": {},
   "outputs": [
    {
     "name": "stdin",
     "output_type": "stream",
     "text": [
      "Enter name:  Hassan\n",
      "Enter phone number:  123456789\n",
      "Enter name:  Ali\n",
      "Enter phone number:  234543\n",
      "Enter name:  Khan\n",
      "Enter phone number:  0909898777\n",
      "Enter name:  \n"
     ]
    },
    {
     "name": "stdout",
     "output_type": "stream",
     "text": [
      "\n",
      "Saved Phonebook Entries:\n",
      "Hassan --> 123456789\n",
      "Ali --> 234543\n",
      "Khan --> 0909898777\n"
     ]
    },
    {
     "name": "stdin",
     "output_type": "stream",
     "text": [
      "Lookup name:  Hassan\n"
     ]
    },
    {
     "name": "stdout",
     "output_type": "stream",
     "text": [
      "Phone number: 123456789\n"
     ]
    },
    {
     "name": "stdin",
     "output_type": "stream",
     "text": [
      "Lookup name:  \n"
     ]
    }
   ],
   "source": [
    "def collect_numbers():\n",
    "    contacts = {} \n",
    "\n",
    "    while True:\n",
    "        person = input(\"Enter name: \")\n",
    "        if person == \"\":\n",
    "            break\n",
    "        num = input(\"Enter phone number: \")\n",
    "        contacts[person] = num\n",
    "\n",
    "    return contacts\n",
    "\n",
    "\n",
    "def show_contacts(contacts):\n",
    "    print(\"\\nSaved Phonebook Entries:\")\n",
    "    for person in contacts:\n",
    "        print(person + \" --> \" + contacts[person])\n",
    "\n",
    "\n",
    "def search_contact(contacts):\n",
    "    while True:\n",
    "        query = input(\"Lookup name: \")\n",
    "        if query == \"\":\n",
    "            break\n",
    "        if query in contacts:\n",
    "            print(\"Phone number:\", contacts[query])\n",
    "        else:\n",
    "            print(query + \" not found in phonebook.\")\n",
    "\n",
    "\n",
    "def main():\n",
    "    saved_contacts = collect_numbers()\n",
    "    show_contacts(saved_contacts)\n",
    "    search_contact(saved_contacts)\n",
    "\n",
    "\n",
    "if __name__ == '__main__':\n",
    "    main()"
   ]
  },
  {
   "cell_type": "markdown",
   "id": "1f790ae6-7067-4ba1-a44a-c2d62552d5d4",
   "metadata": {},
   "source": [
    "## 02_pop_up_shop"
   ]
  },
  {
   "cell_type": "code",
   "execution_count": 13,
   "id": "bce8a6f4-b588-4e95-aaf6-83900ea91b44",
   "metadata": {},
   "outputs": [
    {
     "name": "stdin",
     "output_type": "stream",
     "text": [
      "How many apple do you want to buy?:  5\n",
      "How many durian do you want to buy?:  4\n",
      "How many jackfruit do you want to buy?:  3\n",
      "How many kiwi do you want to buy?:  4\n",
      "How many rambutan do you want to buy?:  2\n",
      "How many mango do you want to buy?:  6\n"
     ]
    },
    {
     "name": "stdout",
     "output_type": "stream",
     "text": [
      "Your total is $ 484.5\n"
     ]
    }
   ],
   "source": [
    "def shop():\n",
    "    fruits = {'apple': 1.5, 'durian': 50, 'jackfruit': 80, 'kiwi': 1, 'rambutan': 1.5, 'mango': 5}\n",
    "    \n",
    "    total_cost = 0\n",
    "    for i in fruits:\n",
    "        price = fruits[i]\n",
    "        amount_bought = int(input(f\"How many {i} do you want to buy?: \"))\n",
    "        total_cost += (price * amount_bought)\n",
    "    \n",
    "    print(\"Your total is $\", str(total_cost))\n",
    "\n",
    "if __name__ == '__main__':\n",
    "    shop()"
   ]
  },
  {
   "cell_type": "markdown",
   "id": "97e8ba82-2d52-4bb7-be42-862d1a834462",
   "metadata": {},
   "source": [
    "## 03_powerful_passwords"
   ]
  },
  {
   "cell_type": "code",
   "execution_count": 24,
   "id": "8d0bf878-3520-4bf2-8160-dd2a7d590700",
   "metadata": {},
   "outputs": [
    {
     "name": "stdin",
     "output_type": "stream",
     "text": [
      "Enter your email:  admin@example.com\n",
      "Enter your password:  admin123@\n"
     ]
    },
    {
     "name": "stdout",
     "output_type": "stream",
     "text": [
      "Login successful for admin@example.com\n"
     ]
    }
   ],
   "source": [
    "from hashlib import sha256\n",
    "\n",
    "def hash_password(password):\n",
    "    return sha256(password.encode()).hexdigest()\n",
    "\n",
    "def login(email, stored_logins, password_to_check):\n",
    "    if email in stored_logins:\n",
    "        hashed_password = stored_logins[email]\n",
    "        entered_password_hash = hash_password(password_to_check)\n",
    "\n",
    "        if hashed_password == entered_password_hash:\n",
    "            print(f\"Login successful for {email}\")\n",
    "        else:\n",
    "            print(f\"Wrong password for {email}\")\n",
    "    else:\n",
    "        print(f\"No account found with email: {email}\")\n",
    "\n",
    "def main():\n",
    "    stored_logins = {\n",
    "        \"user@example.com\": hash_password(\"123456\"),\n",
    "        \"admin@example.com\": hash_password(\"admin123@\")\n",
    "    }\n",
    "\n",
    "    email = input(\"Enter your email: \")\n",
    "    password = input(\"Enter your password: \")\n",
    "\n",
    "    login(email, stored_logins, password)\n",
    "\n",
    "if __name__ == '__main__':\n",
    "    main()\n"
   ]
  }
 ],
 "metadata": {
  "kernelspec": {
   "display_name": "Python [conda env:MachineLearning]",
   "language": "python",
   "name": "conda-env-MachineLearning-py"
  },
  "language_info": {
   "codemirror_mode": {
    "name": "ipython",
    "version": 3
   },
   "file_extension": ".py",
   "mimetype": "text/x-python",
   "name": "python",
   "nbconvert_exporter": "python",
   "pygments_lexer": "ipython3",
   "version": "3.11.11"
  }
 },
 "nbformat": 4,
 "nbformat_minor": 5
}
