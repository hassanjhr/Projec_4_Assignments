{
 "cells": [
  {
   "cell_type": "markdown",
   "id": "4a9f7691-186f-40fe-8578-c05bf2de19ed",
   "metadata": {},
   "source": [
    "## 00_choosing_returns"
   ]
  },
  {
   "cell_type": "code",
   "execution_count": 8,
   "id": "fa00b380-9734-4c1e-872f-6be786489625",
   "metadata": {},
   "outputs": [
    {
     "name": "stdin",
     "output_type": "stream",
     "text": [
      "How old is this person?:  17\n"
     ]
    },
    {
     "name": "stdout",
     "output_type": "stream",
     "text": [
      "False\n"
     ]
    }
   ],
   "source": [
    "ADULT_AGE = 18  \n",
    "\n",
    "def is_adult(age):\n",
    "    return age >= ADULT_AGE\n",
    "\n",
    "def main():\n",
    "    user_input = input(\"How old is this person?: \")\n",
    "    age = int(user_input)\n",
    "    print(is_adult(age))\n",
    "\n",
    "if __name__ == '__main__':\n",
    "    main()"
   ]
  },
  {
   "cell_type": "markdown",
   "id": "198268bb-f93a-4e94-805e-4aa28d442617",
   "metadata": {},
   "source": [
    "## 01_greetings"
   ]
  },
  {
   "cell_type": "code",
   "execution_count": 11,
   "id": "8ca1f312-5619-4b52-b816-b2965d3e809b",
   "metadata": {},
   "outputs": [
    {
     "name": "stdin",
     "output_type": "stream",
     "text": [
      "What's your name?  Hassan\n"
     ]
    },
    {
     "name": "stdout",
     "output_type": "stream",
     "text": [
      "Greetings Hassan!\n"
     ]
    }
   ],
   "source": [
    "def greet(name):\n",
    "    print(\"Greetings \" + name + \"!\")\n",
    "\n",
    "def main():\n",
    "    name = input(\"What's your name? \")\n",
    "    greet(name)\n",
    "\n",
    "if __name__ == '__main__':\n",
    "    main()"
   ]
  },
  {
   "cell_type": "markdown",
   "id": "b668dd12-2c07-42b0-a8bf-7250867cc7bb",
   "metadata": {},
   "source": [
    "## 02_in_range"
   ]
  },
  {
   "cell_type": "code",
   "execution_count": 16,
   "id": "4bd1c27b-0a72-47cf-8899-75fa857525cc",
   "metadata": {},
   "outputs": [
    {
     "name": "stdin",
     "output_type": "stream",
     "text": [
      "Enter the number to check:  -2\n",
      "Enter the low end of the range:  0\n",
      "Enter the high end of the range:  5\n"
     ]
    },
    {
     "name": "stdout",
     "output_type": "stream",
     "text": [
      "-2 is NOT between 0 and 5 (inclusive).\n"
     ]
    }
   ],
   "source": [
    "def in_range(n, low, high):\n",
    "    return low <= n <= high\n",
    "\n",
    "def main():\n",
    "    n = int(input(\"Enter the number to check: \"))\n",
    "    low = int(input(\"Enter the low end of the range: \"))\n",
    "    high = int(input(\"Enter the high end of the range: \"))\n",
    "    \n",
    "    if in_range(n, low, high):\n",
    "        print(f\"{n} is between {low} and {high} (inclusive).\")\n",
    "    else:\n",
    "        print(f\"{n} is NOT between {low} and {high} (inclusive).\")\n",
    "\n",
    "if __name__ == '__main__':\n",
    "    main()\n"
   ]
  },
  {
   "cell_type": "markdown",
   "id": "91bd78a2-8920-434c-9c31-341b46aba58e",
   "metadata": {},
   "source": [
    "## 03_in_stock"
   ]
  },
  {
   "cell_type": "code",
   "execution_count": 21,
   "id": "f33f4fbd-5f9e-4fa3-a78e-90da4089e629",
   "metadata": {},
   "outputs": [
    {
     "name": "stdin",
     "output_type": "stream",
     "text": [
      "Enter a fruit:  Apple\n"
     ]
    },
    {
     "name": "stdout",
     "output_type": "stream",
     "text": [
      "This fruit is in stock! Here is how many:\n",
      "500\n"
     ]
    }
   ],
   "source": [
    "def num_in_stock(fruit):\n",
    "    inventory = {\n",
    "        \"apple\": 500,\n",
    "        \"banana\": 200,\n",
    "        \"pear\": 1000,\n",
    "        \"orange\": 300\n",
    "    }\n",
    "    return inventory.get(fruit.lower(), 0)\n",
    "\n",
    "def main():\n",
    "    fruit = input(\"Enter a fruit: \")\n",
    "    stock = num_in_stock(fruit)\n",
    "    \n",
    "    if stock > 0:\n",
    "        print(\"This fruit is in stock! Here is how many:\")\n",
    "        print(stock)\n",
    "    else:\n",
    "        print(\"This fruit is not in stock.\")\n",
    "\n",
    "if __name__ == '__main__':\n",
    "    main()"
   ]
  },
  {
   "cell_type": "markdown",
   "id": "80787aa0-fc99-47fe-805f-e7c0f7266edc",
   "metadata": {},
   "source": [
    "## 04_multiple_returns"
   ]
  },
  {
   "cell_type": "code",
   "execution_count": 24,
   "id": "6e6ea2e5-4b73-4a3c-a37f-cdcc2fb84386",
   "metadata": {},
   "outputs": [
    {
     "name": "stdin",
     "output_type": "stream",
     "text": [
      "What is your first name?:  Muhammad Hassan\n",
      "What is your last name?:  Jawaid\n",
      "What is your email address?:  hassanjhr09@gmail.com\n"
     ]
    },
    {
     "name": "stdout",
     "output_type": "stream",
     "text": [
      "Received the following user data: ('Muhammad Hassan', 'Jawaid', 'hassanjhr09@gmail.com')\n"
     ]
    }
   ],
   "source": [
    "def get_user_data():\n",
    "    first_name = input(\"What is your first name?: \")\n",
    "    last_name = input(\"What is your last name?: \")\n",
    "    email = input(\"What is your email address?: \")\n",
    "    return first_name, last_name, email\n",
    "\n",
    "def main():\n",
    "    user_data = get_user_data()\n",
    "    print(\"Received the following user data:\", user_data)\n",
    "\n",
    "if __name__ == '__main__':\n",
    "    main()"
   ]
  },
  {
   "cell_type": "markdown",
   "id": "00eaefe0-7ab7-4baa-9e64-06cfff8aa9d7",
   "metadata": {},
   "source": [
    "## 05_subtract_7"
   ]
  },
  {
   "cell_type": "code",
   "execution_count": 31,
   "id": "8f50755c-d70e-4226-9c1b-8e6d6c7d793a",
   "metadata": {},
   "outputs": [
    {
     "name": "stdin",
     "output_type": "stream",
     "text": [
      "Enter a number:  45\n"
     ]
    },
    {
     "name": "stdout",
     "output_type": "stream",
     "text": [
      "Result after subtracting 7: 38\n"
     ]
    }
   ],
   "source": [
    "def subtract_seven(num):\n",
    "    return num - 7\n",
    "\n",
    "def main():\n",
    "    number = int(input(\"Enter a number: \"))\n",
    "    result = subtract_seven(number)\n",
    "    print(\"Result after subtracting 7:\", result)\n",
    "\n",
    "if __name__ == '__main__':\n",
    "    main()"
   ]
  },
  {
   "cell_type": "code",
   "execution_count": null,
   "id": "cd028f45-9b0c-44a3-aaf0-0697358120c9",
   "metadata": {},
   "outputs": [],
   "source": []
  }
 ],
 "metadata": {
  "kernelspec": {
   "display_name": "Python [conda env:MachineLearning]",
   "language": "python",
   "name": "conda-env-MachineLearning-py"
  },
  "language_info": {
   "codemirror_mode": {
    "name": "ipython",
    "version": 3
   },
   "file_extension": ".py",
   "mimetype": "text/x-python",
   "name": "python",
   "nbconvert_exporter": "python",
   "pygments_lexer": "ipython3",
   "version": "3.11.11"
  }
 },
 "nbformat": 4,
 "nbformat_minor": 5
}
