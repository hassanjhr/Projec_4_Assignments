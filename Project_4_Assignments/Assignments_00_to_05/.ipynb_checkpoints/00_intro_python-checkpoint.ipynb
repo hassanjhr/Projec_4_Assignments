{
 "cells": [
  {
   "cell_type": "markdown",
   "id": "21d4ee2a-2230-49ea-8606-e551d256582c",
   "metadata": {},
   "source": [
    "## 01_add_two_numbers\n"
   ]
  },
  {
   "cell_type": "code",
   "execution_count": 62,
   "id": "d9b84b84-ca27-49d7-877d-5b7ec57ecb87",
   "metadata": {
    "scrolled": true
   },
   "outputs": [
    {
     "name": "stdout",
     "output_type": "stream",
     "text": [
      "add two numbers\n"
     ]
    },
    {
     "name": "stdin",
     "output_type": "stream",
     "text": [
      "Enter your first Number 3\n",
      "Enter your Second Number 4\n"
     ]
    },
    {
     "name": "stdout",
     "output_type": "stream",
     "text": [
      "The Total Sum of 3 & 4 is 7 \n"
     ]
    }
   ],
   "source": [
    "print(\"add two numbers\")\n",
    "\n",
    "def add():\n",
    "    first_input = int(input(\"Enter your first Number\"))\n",
    "    second_input = int(input(\"Enter your Second Number\"))\n",
    "    total_value = int(first_input + second_input)\n",
    "    print(f'The Total Sum of {first_input} & {second_input} is {total_value} ')\n",
    "\n",
    "if __name__ == \"__main__\":\n",
    "    add()"
   ]
  },
  {
   "cell_type": "markdown",
   "id": "1a8dc4cf-c998-442c-9ce4-ccc949981bcf",
   "metadata": {},
   "source": [
    "## 02_agreement_bot"
   ]
  },
  {
   "cell_type": "code",
   "execution_count": 64,
   "id": "3cc17ab2-6888-43e6-a66b-3b9edb5c4a06",
   "metadata": {},
   "outputs": [
    {
     "name": "stdout",
     "output_type": "stream",
     "text": [
      "Agreement Bot\n"
     ]
    },
    {
     "name": "stdin",
     "output_type": "stream",
     "text": [
      "Enter your Favorite Animal? Lion\n"
     ]
    },
    {
     "name": "stdout",
     "output_type": "stream",
     "text": [
      "My favorite animal is Lion\n"
     ]
    }
   ],
   "source": [
    "print(\"Agreement Bot\")\n",
    "\n",
    "def bot():\n",
    "    animal = str(input(\"Enter your Favorite Animal?\"))\n",
    "    print(f\"My favorite animal is {animal}\")\n",
    "\n",
    "if __name__ == \"__main__\":\n",
    "    bot()\n",
    "\n"
   ]
  },
  {
   "cell_type": "markdown",
   "id": "33438637-384f-4323-90fe-f43b2e4057f2",
   "metadata": {},
   "source": [
    "## 03_fahrenheit_to_celsius"
   ]
  },
  {
   "cell_type": "code",
   "execution_count": 68,
   "id": "b8ca1b7d-2d40-4e49-b676-9cb93d0f22a3",
   "metadata": {},
   "outputs": [
    {
     "name": "stdout",
     "output_type": "stream",
     "text": [
      "fahreneit to Celsius\n"
     ]
    },
    {
     "name": "stdin",
     "output_type": "stream",
     "text": [
      "Enter your fahrebheit 45\n"
     ]
    },
    {
     "name": "stdout",
     "output_type": "stream",
     "text": [
      "Temperature 45.0F = 7.222222222222222C\n"
     ]
    }
   ],
   "source": [
    "print(\"fahreneit to Celsius\")\n",
    "\n",
    "def temperature():\n",
    "    degrees_fahrenheit = float(input(\"Enter your fahrebheit\"))\n",
    "    degrees_celsius = (degrees_fahrenheit - 32) * 5.0/9.0\n",
    "    print(f\"Temperature {degrees_fahrenheit}F = {degrees_celsius}C\")\n",
    "\n",
    "if __name__ == \"__main__\":\n",
    "    temperature()\n"
   ]
  },
  {
   "cell_type": "markdown",
   "id": "92236484-943b-4d47-8c4a-fe409b143947",
   "metadata": {},
   "source": [
    "## 04_how_old_are_they"
   ]
  },
  {
   "cell_type": "code",
   "execution_count": 70,
   "id": "0de6627b-983c-4507-b200-e5c8364959a2",
   "metadata": {},
   "outputs": [
    {
     "name": "stdout",
     "output_type": "stream",
     "text": [
      "How old are they?\n",
      "Anthon is 21 years old\n",
      "Beth is 27 years old\n",
      "Chen is 47 years old\n",
      "Drew is 68 years old\n",
      "Ethon is 47 years old\n"
     ]
    }
   ],
   "source": [
    "print(\"How old are they?\")\n",
    "\n",
    "def sumOfages():\n",
    "    anthon : int = 21\n",
    "    beth : int = anthon + 6\n",
    "    chen : int = beth + 20\n",
    "    drew : int = chen + anthon\n",
    "    ethan : int = chen\n",
    "\n",
    "    print(\"Anthon is \" + str(anthon) + \" years old\")\n",
    "    print(\"Beth is \" + str(beth) + \" years old\")\n",
    "    print(\"Chen is \" + str(chen) + \" years old\")\n",
    "    print(\"Drew is \" + str(drew) + \" years old\")\n",
    "    print(\"Ethon is \" + str(ethan) + \" years old\")\n",
    "\n",
    "if __name__ == \"__main__\":\n",
    "    sumOfages()\n",
    "    "
   ]
  },
  {
   "cell_type": "markdown",
   "id": "3bcb6872-0c63-401a-8d38-abdf11193375",
   "metadata": {},
   "source": [
    "## 05_triangle_perimeter"
   ]
  },
  {
   "cell_type": "code",
   "execution_count": 75,
   "id": "2ff298de-6c39-4ef5-835f-50450c99f8fb",
   "metadata": {},
   "outputs": [
    {
     "name": "stdout",
     "output_type": "stream",
     "text": [
      "Triangle Perimeter\n"
     ]
    },
    {
     "name": "stdin",
     "output_type": "stream",
     "text": [
      "Enter your first side value of triangle 3\n",
      "Enter your second side value of triangle 4\n",
      "Enter your third side value of triangle 5\n"
     ]
    },
    {
     "name": "stdout",
     "output_type": "stream",
     "text": [
      "The total sum of 3.0, 4.0 & 5.0 is 12.0\n"
     ]
    }
   ],
   "source": [
    "print(\"Triangle Perimeter\")\n",
    "\n",
    "def triangle():\n",
    "    first_side : float = float(input(\"Enter your first side value of triangle\"))\n",
    "    second_side : float = float(input(\"Enter your second side value of triangle\"))\n",
    "    third_side : float = float(input(\"Enter your third side value of triangle\"))\n",
    "    total: float = float(first_side + second_side + third_side)\n",
    "\n",
    "    print(f\"The total sum of {first_side}, {second_side} & {third_side} is {total}\")\n",
    "\n",
    "if __name__ == \"__main__\":\n",
    "    triangle()\n",
    "    "
   ]
  },
  {
   "cell_type": "markdown",
   "id": "8ec6d2dc-2f16-4cb7-80ed-480402be0378",
   "metadata": {},
   "source": [
    "## 06_square_number"
   ]
  },
  {
   "cell_type": "code",
   "execution_count": 81,
   "id": "035df104-46dc-461a-888a-5959a8c94bcf",
   "metadata": {},
   "outputs": [
    {
     "name": "stdout",
     "output_type": "stream",
     "text": [
      "Square Number\n"
     ]
    },
    {
     "name": "stdin",
     "output_type": "stream",
     "text": [
      "Enter your Number: 6\n"
     ]
    },
    {
     "name": "stdout",
     "output_type": "stream",
     "text": [
      "The square of 6 is 36\n"
     ]
    }
   ],
   "source": [
    "print(\"Square Number\")\n",
    "\n",
    "def square():\n",
    "    number : int = int(input(\"Enter your Number:\"))\n",
    "    print(f\"The square of {number} is {number ** 2}\")\n",
    "\n",
    "if __name__ == \"__main__\":\n",
    "    square()"
   ]
  }
 ],
 "metadata": {
  "kernelspec": {
   "display_name": "Python [conda env:MachineLearning]",
   "language": "python",
   "name": "conda-env-MachineLearning-py"
  },
  "language_info": {
   "codemirror_mode": {
    "name": "ipython",
    "version": 3
   },
   "file_extension": ".py",
   "mimetype": "text/x-python",
   "name": "python",
   "nbconvert_exporter": "python",
   "pygments_lexer": "ipython3",
   "version": "3.11.11"
  }
 },
 "nbformat": 4,
 "nbformat_minor": 5
}
