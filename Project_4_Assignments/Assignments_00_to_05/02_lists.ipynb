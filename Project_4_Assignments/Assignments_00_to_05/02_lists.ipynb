{
 "cells": [
  {
   "cell_type": "markdown",
   "id": "d5c4d0b4-c6d0-47e3-bca4-e7f22388ef54",
   "metadata": {},
   "source": [
    "## 01_add_many_number"
   ]
  },
  {
   "cell_type": "code",
   "execution_count": 2,
   "id": "0706a84d-ddf0-4c2f-9d40-10aeb4d00a04",
   "metadata": {},
   "outputs": [
    {
     "name": "stdout",
     "output_type": "stream",
     "text": [
      "45\n"
     ]
    }
   ],
   "source": [
    "def addNumber(number)->int:\n",
    "  num:int = 0\n",
    "  for i in number:\n",
    "    num += i\n",
    "\n",
    "  return num\n",
    "\n",
    "def main():\n",
    "  number:list[int] = [1,2,3,4,5,6,7,8,9]\n",
    "  sum:int = addNumber(number)\n",
    "  print(sum)\n",
    "\n",
    "if __name__ == \"__main__\":\n",
    "    main()"
   ]
  },
  {
   "cell_type": "markdown",
   "id": "b0646dd4-6f1c-4bd9-a5f2-88fee40d9dca",
   "metadata": {},
   "source": [
    "## 02_double_list"
   ]
  },
  {
   "cell_type": "code",
   "execution_count": 4,
   "id": "610578a5-0817-40c3-ac3c-de1d3c9ce646",
   "metadata": {},
   "outputs": [
    {
     "name": "stdout",
     "output_type": "stream",
     "text": [
      "[2, 4, 6, 8]\n"
     ]
    }
   ],
   "source": [
    "def main():\n",
    "  numbers:list[int] =[1,2,3,4]\n",
    "  for i in range(len(numbers)):\n",
    "    index = numbers[i]\n",
    "    numbers[i] = index * 2\n",
    "  print(numbers)\n",
    "\n",
    "if __name__ == \"__main__\":\n",
    "  main()"
   ]
  },
  {
   "cell_type": "markdown",
   "id": "f5fe32b0-1f00-4f24-969c-31daf81515da",
   "metadata": {},
   "source": [
    "## 03_erase_canvas"
   ]
  },
  {
   "cell_type": "code",
   "execution_count": null,
   "id": "37a7d309-4b82-451a-9fa2-9df725c2c4ab",
   "metadata": {},
   "outputs": [],
   "source": [
    "# from graphics import Canvas\n",
    "# import time\n",
    "\n",
    "# CANVAS_WIDTH = 400\n",
    "# CANVAS_HEIGHT = 400\n",
    "\n",
    "# CELL_SIZE = 40\n",
    "# ERASER_SIZE = 20\n",
    "\n",
    "# def erase_objects(canvas, eraser):\n",
    "#     mouse_x = canvas.get_mouse_x()\n",
    "#     mouse_y = canvas.get_mouse_y()\n",
    "    \n",
    "#     left_x = mouse_x\n",
    "#     top_y = mouse_y\n",
    "#     right_x = left_x + ERASER_SIZE\n",
    "#     bottom_y = top_y + ERASER_SIZE\n",
    "    \n",
    "#     overlapping_objects = canvas.find_overlapping(left_x, top_y, right_x, bottom_y)\n",
    "    \n",
    "#     for overlapping_object in overlapping_objects:\n",
    "#         if overlapping_object != eraser:\n",
    "#             canvas.set_color(overlapping_object, 'white')\n",
    "\n",
    "# def main():\n",
    "#     canvas = Canvas(CANVAS_WIDTH, CANVAS_HEIGHT)\n",
    "    \n",
    "#     num_rows = CANVAS_HEIGHT // CELL_SIZE\n",
    "#     num_cols = CANVAS_WIDTH // CELL_SIZE\n",
    "    \n",
    "#     for row in range(num_rows):\n",
    "#         for col in range(num_cols):\n",
    "#             left_x = col * CELL_SIZE\n",
    "#             top_y = row * CELL_SIZE\n",
    "#             right_x = left_x + CELL_SIZE\n",
    "#             bottom_y = top_y + CELL_SIZE\n",
    "            \n",
    "#             canvas.create_rectangle(left_x, top_y, right_x, bottom_y, 'blue')\n",
    "            \n",
    "#     canvas.wait_for_click()\n",
    "    \n",
    "#     last_click_x, last_click_y = canvas.get_last_click()\n",
    "    \n",
    "#     eraser = canvas.create_rectangle(\n",
    "#         last_click_x, \n",
    "#         last_click_y, \n",
    "#         last_click_x + ERASER_SIZE, \n",
    "#         last_click_y + ERASER_SIZE, \n",
    "#         'pink'\n",
    "#     )\n",
    "    \n",
    "#     while True:\n",
    "#         mouse_x = canvas.get_mouse_x()\n",
    "#         mouse_y = canvas.get_mouse_y()\n",
    "#         canvas.moveto(eraser, mouse_x, mouse_y)\n",
    "#         erase_objects(canvas, eraser) \n",
    "#         time.sleep(0.05)\n",
    "\n",
    "# if __name__ == '__main__':\n",
    "#     main()\n"
   ]
  },
  {
   "cell_type": "markdown",
   "id": "e648478f-e171-437e-a3dc-1d28018e7b09",
   "metadata": {},
   "source": [
    "## 04_flowing_with_data_structures"
   ]
  },
  {
   "cell_type": "code",
   "execution_count": 6,
   "id": "0c8faaab-1cd0-4201-9322-48c087e85d74",
   "metadata": {},
   "outputs": [
    {
     "name": "stdin",
     "output_type": "stream",
     "text": [
      "Enter a message to copy:  programming\n"
     ]
    },
    {
     "name": "stdout",
     "output_type": "stream",
     "text": [
      "List before: []\n",
      "List after: ['programming', 'programming', 'programming']\n"
     ]
    }
   ],
   "source": [
    "def add_three_copies(my_list, data):\n",
    "    for i in range(3):\n",
    "        my_list.append(data)\n",
    "\n",
    "def main():\n",
    "    message = input(\"Enter a message to copy: \")\n",
    "    my_list = []\n",
    "    print(\"List before:\", my_list)\n",
    "    add_three_copies(my_list, message)\n",
    "    print(\"List after:\", my_list)\n",
    "\n",
    "if __name__ == \"__main__\":\n",
    "    main()"
   ]
  },
  {
   "cell_type": "markdown",
   "id": "feb33503-5d07-45af-9c15-dbbf27bc7478",
   "metadata": {},
   "source": [
    "## 05_get_first_element."
   ]
  },
  {
   "cell_type": "code",
   "execution_count": 8,
   "id": "51d714a2-d024-4644-8152-e51cb319aa30",
   "metadata": {},
   "outputs": [
    {
     "name": "stdin",
     "output_type": "stream",
     "text": [
      "Enter an element (press Enter to stop):  a\n",
      "Enter an element (press Enter to stop):  s\n",
      "Enter an element (press Enter to stop):  d\n",
      "Enter an element (press Enter to stop):  \n"
     ]
    },
    {
     "name": "stdout",
     "output_type": "stream",
     "text": [
      "a\n"
     ]
    }
   ],
   "source": [
    "def get_first_element(lst):\n",
    "    print(lst[0])\n",
    "\n",
    "def get_lst():\n",
    "    lst = []\n",
    "    elem = input(\"Enter an element (press Enter to stop): \")\n",
    "    while elem != \"\":\n",
    "        lst.append(elem)\n",
    "        elem = input(\"Enter an element (press Enter to stop): \")\n",
    "    return lst\n",
    "\n",
    "def main():\n",
    "    lst = get_lst()\n",
    "    get_first_element(lst)\n",
    "\n",
    "if __name__ == '__main__':\n",
    "    main()"
   ]
  },
  {
   "cell_type": "markdown",
   "id": "eeef98f5-e16a-45c2-8b2c-8368157b9a50",
   "metadata": {},
   "source": [
    "## 06_get_last_element"
   ]
  },
  {
   "cell_type": "code",
   "execution_count": 10,
   "id": "7b80e200-9f7e-408b-9a28-cd3e15fe6522",
   "metadata": {},
   "outputs": [
    {
     "name": "stdout",
     "output_type": "stream",
     "text": [
      "date\n"
     ]
    }
   ],
   "source": [
    "def get_last_element(lst):\n",
    "    print(lst[-1])\n",
    "\n",
    "def main():\n",
    "    fruits = [\"apple\", \"banana\", \"cherry\", \"date\"]\n",
    "    get_last_element(fruits)\n",
    "\n",
    "if __name__ == \"__main__\":\n",
    "    main()"
   ]
  },
  {
   "cell_type": "markdown",
   "id": "fafbf1d2-7682-4b34-aca5-2853959c9ad4",
   "metadata": {},
   "source": [
    "## 07_get_list"
   ]
  },
  {
   "cell_type": "code",
   "execution_count": 12,
   "id": "1234b55f-9690-45e1-9da9-fd15833819cb",
   "metadata": {},
   "outputs": [
    {
     "name": "stdin",
     "output_type": "stream",
     "text": [
      "Enter a value:  1\n",
      "Enter a value:  2\n",
      "Enter a value:  3\n",
      "Enter a value:  4\n",
      "Enter a value:  \n"
     ]
    },
    {
     "name": "stdout",
     "output_type": "stream",
     "text": [
      "Here's the list: ['1', '2', '3', '4']\n"
     ]
    }
   ],
   "source": [
    "def main():\n",
    "    lst = [] \n",
    "\n",
    "    value = input(\"Enter a value: \") \n",
    "    while value:\n",
    "        lst.append(value)\n",
    "        value = input(\"Enter a value: \")  \n",
    "\n",
    "    print(\"Here's the list:\", lst)\n",
    "\n",
    "if __name__ == '__main__':\n",
    "    main()"
   ]
  },
  {
   "cell_type": "markdown",
   "id": "1873165a-7f29-4bc8-bf6e-0b848b4e5bc9",
   "metadata": {},
   "source": [
    "## 08_shorten"
   ]
  },
  {
   "cell_type": "code",
   "execution_count": 25,
   "id": "538bdc3f-f528-4597-baa2-f92342f75329",
   "metadata": {},
   "outputs": [
    {
     "name": "stdin",
     "output_type": "stream",
     "text": [
      "Enter an element to add to the list or press enter to stop.:  a\n",
      "Enter an element to add to the list or press enter to stop.:  s\n",
      "Enter an element to add to the list or press enter to stop.:  df\n",
      "Enter an element to add to the list or press enter to stop.:  g\n",
      "Enter an element to add to the list or press enter to stop.:  h\n",
      "Enter an element to add to the list or press enter to stop.:  j\n",
      "Enter an element to add to the list or press enter to stop.:  k\n",
      "Enter an element to add to the list or press enter to stop.:  \n"
     ]
    },
    {
     "name": "stdout",
     "output_type": "stream",
     "text": [
      "k\n",
      "j\n",
      "h\n",
      "g\n"
     ]
    }
   ],
   "source": [
    "MAX_LENGTH:int = 3\n",
    "\n",
    "def shorten(lst):\n",
    "  while len(lst) > MAX_LENGTH:\n",
    "    last_element = lst.pop()\n",
    "    print(last_element)\n",
    "\n",
    "def get_lst():\n",
    "  lst = []\n",
    "  element = input(\"Enter an element to add to the list or press enter to stop.: \")\n",
    "  while element != \"\":\n",
    "    lst.append(element)\n",
    "    element = input(\"Enter an element to add to the list or press enter to stop.: \")\n",
    "  return lst\n",
    "\n",
    "def main():\n",
    "  lst = get_lst()\n",
    "  shorten(lst)\n",
    "\n",
    "if __name__ == \"__main__\":\n",
    "  main()"
   ]
  },
  {
   "cell_type": "code",
   "execution_count": null,
   "id": "05dd4666-b060-494b-ae24-9de0c053af5b",
   "metadata": {},
   "outputs": [],
   "source": []
  }
 ],
 "metadata": {
  "kernelspec": {
   "display_name": "Python [conda env:MachineLearning]",
   "language": "python",
   "name": "conda-env-MachineLearning-py"
  },
  "language_info": {
   "codemirror_mode": {
    "name": "ipython",
    "version": 3
   },
   "file_extension": ".py",
   "mimetype": "text/x-python",
   "name": "python",
   "nbconvert_exporter": "python",
   "pygments_lexer": "ipython3",
   "version": "3.11.11"
  }
 },
 "nbformat": 4,
 "nbformat_minor": 5
}
