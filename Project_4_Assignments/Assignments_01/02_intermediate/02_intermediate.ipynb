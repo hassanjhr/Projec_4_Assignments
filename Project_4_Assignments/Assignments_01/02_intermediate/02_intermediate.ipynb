{
 "cells": [
  {
   "cell_type": "markdown",
   "id": "6db9dbf2-3b5e-4463-a10e-94f0038960af",
   "metadata": {},
   "source": [
    "## Control Flow for Console"
   ]
  },
  {
   "cell_type": "code",
   "execution_count": 8,
   "id": "05435e31-a6d7-4cea-b1a4-727b32a79484",
   "metadata": {},
   "outputs": [
    {
     "name": "stdout",
     "output_type": "stream",
     "text": [
      "Welcome to the High-Low game!\n",
      "You will play 5 rounds.\n",
      "\n",
      "Round 1:\n",
      "Your number is: 99\n"
     ]
    },
    {
     "name": "stdin",
     "output_type": "stream",
     "text": [
      "Do you think your number is (higher/lower) than the computer's?  lower\n"
     ]
    },
    {
     "name": "stdout",
     "output_type": "stream",
     "text": [
      "Wrong! The computer's number was 51.\n",
      "Current Score: 0\n",
      "\n",
      "Round 2:\n",
      "Your number is: 16\n"
     ]
    },
    {
     "name": "stdin",
     "output_type": "stream",
     "text": [
      "Do you think your number is (higher/lower) than the computer's?  higher\n"
     ]
    },
    {
     "name": "stdout",
     "output_type": "stream",
     "text": [
      "Wrong! The computer's number was 68.\n",
      "Current Score: 0\n",
      "\n",
      "Round 3:\n",
      "Your number is: 88\n"
     ]
    },
    {
     "name": "stdin",
     "output_type": "stream",
     "text": [
      "Do you think your number is (higher/lower) than the computer's?  higher\n"
     ]
    },
    {
     "name": "stdout",
     "output_type": "stream",
     "text": [
      "Correct! The computer's number was 18.\n",
      "Current Score: 1\n",
      "\n",
      "Round 4:\n",
      "Your number is: 20\n"
     ]
    },
    {
     "name": "stdin",
     "output_type": "stream",
     "text": [
      "Do you think your number is (higher/lower) than the computer's?  lower\n"
     ]
    },
    {
     "name": "stdout",
     "output_type": "stream",
     "text": [
      "Wrong! The computer's number was 17.\n",
      "Current Score: 1\n",
      "\n",
      "Round 5:\n",
      "Your number is: 45\n"
     ]
    },
    {
     "name": "stdin",
     "output_type": "stream",
     "text": [
      "Do you think your number is (higher/lower) than the computer's?  higher\n"
     ]
    },
    {
     "name": "stdout",
     "output_type": "stream",
     "text": [
      "Wrong! The computer's number was 90.\n",
      "Current Score: 1\n",
      "\n",
      "Game Over!\n",
      "Your final score is: 1 out of 5\n"
     ]
    }
   ],
   "source": [
    "import random\n",
    "\n",
    "def play_high_low_game(rounds=5):\n",
    "    score = 0\n",
    "    print(\"Welcome to the High-Low game!\")\n",
    "    print(f\"You will play {rounds} rounds.\\n\")\n",
    "\n",
    "    for round_num in range(1, rounds + 1):\n",
    "        user_number = random.randint(1, 100)\n",
    "        computer_number = random.randint(1, 100)\n",
    "\n",
    "        print(f\"Round {round_num}:\")\n",
    "        print(f\"Your number is: {user_number}\")\n",
    "        guess = input(\"Do you think your number is (higher/lower) than the computer's? \").strip().lower()\n",
    "\n",
    "        # Determine result\n",
    "        if (guess == \"higher\" and user_number > computer_number) or \\\n",
    "           (guess == \"lower\" and user_number < computer_number):\n",
    "            print(f\"Correct! The computer's number was {computer_number}.\")\n",
    "            score += 1\n",
    "        else:\n",
    "            print(f\"Wrong! The computer's number was {computer_number}.\")\n",
    "\n",
    "        print(f\"Current Score: {score}\\n\")\n",
    "\n",
    "    print(\"Game Over!\")\n",
    "    print(f\"Your final score is: {score} out of {rounds}\")\n",
    "\n",
    "if __name__ == \"__main__\":\n",
    "    play_high_low_game()"
   ]
  },
  {
   "cell_type": "markdown",
   "id": "4a2ac2b8-4707-4644-b8fb-3029ec1a4131",
   "metadata": {},
   "source": [
    "## Intro to Python"
   ]
  },
  {
   "cell_type": "code",
   "execution_count": 14,
   "id": "907b394c-c09f-4158-ae8c-f51fb4c56a38",
   "metadata": {},
   "outputs": [
    {
     "name": "stdin",
     "output_type": "stream",
     "text": [
      "Enter your weight on Earth (kg):  98\n"
     ]
    },
    {
     "name": "stdout",
     "output_type": "stream",
     "text": [
      "\n",
      "Your weight on other planets:\n",
      "Mercury: 36.85 kg\n",
      "Venus: 87.12 kg\n",
      "Mars: 37.04 kg\n",
      "Jupiter: 231.28 kg\n",
      "Saturn: 105.94 kg\n",
      "Uranus: 79.87 kg\n",
      "Neptune: 111.72 kg\n"
     ]
    }
   ],
   "source": [
    "def planetary_weight_calculator():\n",
    "    earth_weight = float(input(\"Enter your weight on Earth (kg): \"))\n",
    "\n",
    "    gravity_factors = {\n",
    "        \"Mercury\": 0.376,\n",
    "        \"Venus\": 0.889,\n",
    "        \"Mars\": 0.378,\n",
    "        \"Jupiter\": 2.36,\n",
    "        \"Saturn\": 1.081,\n",
    "        \"Uranus\": 0.815,\n",
    "        \"Neptune\": 1.14\n",
    "    }\n",
    "\n",
    "    print(\"\\nYour weight on other planets:\")\n",
    "\n",
    "    for planet, factor in gravity_factors.items():\n",
    "        planet_weight = round(earth_weight * factor, 2)\n",
    "        print(f\"{planet}: {planet_weight} kg\")\n",
    "\n",
    "if __name__ == \"__main__\":\n",
    "    planetary_weight_calculator()"
   ]
  },
  {
   "cell_type": "markdown",
   "id": "d4d21509-aaf7-4cbf-80d8-59211d618198",
   "metadata": {},
   "source": [
    "## Lists and Dicts"
   ]
  },
  {
   "cell_type": "code",
   "execution_count": 21,
   "id": "465088c0-a533-4eed-afd5-b51737e3a1cf",
   "metadata": {},
   "outputs": [
    {
     "name": "stdout",
     "output_type": "stream",
     "text": [
      "Length of list: 5\n",
      "Updated list after adding mango: ['apple', 'banana', 'orange', 'grape', 'pineapple', 'mango']\n",
      "\n",
      "Choose an operation: access / modify / slice / quit\n"
     ]
    },
    {
     "name": "stdin",
     "output_type": "stream",
     "text": [
      "Your choice:  access\n",
      "Enter index to access:  1\n"
     ]
    },
    {
     "name": "stdout",
     "output_type": "stream",
     "text": [
      "Result: banana\n",
      "\n",
      "Choose an operation: access / modify / slice / quit\n"
     ]
    },
    {
     "name": "stdin",
     "output_type": "stream",
     "text": [
      "Your choice:  modify\n",
      "Enter index to modify:  2\n",
      "Enter new fruit value:  berry\n"
     ]
    },
    {
     "name": "stdout",
     "output_type": "stream",
     "text": [
      "Element at index 2 updated.\n",
      "Updated list: ['apple', 'banana', 'berry', 'grape', 'pineapple', 'mango']\n",
      "\n",
      "Choose an operation: access / modify / slice / quit\n"
     ]
    },
    {
     "name": "stdin",
     "output_type": "stream",
     "text": [
      "Your choice:  slice\n",
      "Enter start index:  3\n",
      "Enter end index:  6\n"
     ]
    },
    {
     "name": "stdout",
     "output_type": "stream",
     "text": [
      "Sliced list: ['grape', 'pineapple', 'mango']\n",
      "\n",
      "Choose an operation: access / modify / slice / quit\n"
     ]
    },
    {
     "name": "stdin",
     "output_type": "stream",
     "text": [
      "Your choice:  quit\n"
     ]
    },
    {
     "name": "stdout",
     "output_type": "stream",
     "text": [
      "Goodbye!\n"
     ]
    }
   ],
   "source": [
    "def access_element(fruit_list, index):\n",
    "    if 0 <= index < len(fruit_list):\n",
    "        return fruit_list[index]\n",
    "    else:\n",
    "        return \"Index out of range.\"\n",
    "\n",
    "def modify_element(fruit_list, index, new_value):\n",
    "    if 0 <= index < len(fruit_list):\n",
    "        fruit_list[index] = new_value\n",
    "        return f\"Element at index {index} updated.\"\n",
    "    else:\n",
    "        return \"Index out of range.\"\n",
    "\n",
    "def slice_list(fruit_list, start, end):\n",
    "    # Handle out of range by clamping indices\n",
    "    start = max(start, 0)\n",
    "    end = min(end, len(fruit_list))\n",
    "    if start >= end:\n",
    "        return []\n",
    "    return fruit_list[start:end]\n",
    "\n",
    "def main():\n",
    "    # Create fruit list\n",
    "    fruit_list = ['apple', 'banana', 'orange', 'grape', 'pineapple']\n",
    "\n",
    "    # Print the length of the list\n",
    "    print(\"Length of list:\", len(fruit_list))\n",
    "\n",
    "    # Add 'mango' to the end\n",
    "    fruit_list.append('mango')\n",
    "    print(\"Updated list after adding mango:\", fruit_list)\n",
    "\n",
    "    while True:\n",
    "        print(\"\\nChoose an operation: access / modify / slice / quit\")\n",
    "        choice = input(\"Your choice: \").lower()\n",
    "\n",
    "        if choice == \"access\":\n",
    "            idx = int(input(\"Enter index to access: \"))\n",
    "            result = access_element(fruit_list, idx)\n",
    "            print(\"Result:\", result)\n",
    "\n",
    "        elif choice == \"modify\":\n",
    "            idx = int(input(\"Enter index to modify: \"))\n",
    "            new_val = input(\"Enter new fruit value: \")\n",
    "            result = modify_element(fruit_list, idx, new_val)\n",
    "            print(result)\n",
    "            print(\"Updated list:\", fruit_list)\n",
    "\n",
    "        elif choice == \"slice\":\n",
    "            start = int(input(\"Enter start index: \"))\n",
    "            end = int(input(\"Enter end index: \"))\n",
    "            result = slice_list(fruit_list, start, end)\n",
    "            print(\"Sliced list:\", result)\n",
    "\n",
    "        elif choice == \"quit\":\n",
    "            print(\"Goodbye!\")\n",
    "            break\n",
    "\n",
    "        else:\n",
    "            print(\"Invalid choice, please try again.\")\n",
    "\n",
    "if __name__ == \"__main__\":\n",
    "    main()"
   ]
  }
 ],
 "metadata": {
  "kernelspec": {
   "display_name": "Python [conda env:MachineLearning]",
   "language": "python",
   "name": "conda-env-MachineLearning-py"
  },
  "language_info": {
   "codemirror_mode": {
    "name": "ipython",
    "version": 3
   },
   "file_extension": ".py",
   "mimetype": "text/x-python",
   "name": "python",
   "nbconvert_exporter": "python",
   "pygments_lexer": "ipython3",
   "version": "3.11.11"
  }
 },
 "nbformat": 4,
 "nbformat_minor": 5
}
