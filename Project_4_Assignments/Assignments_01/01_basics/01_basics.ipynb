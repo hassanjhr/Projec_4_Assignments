{
 "cells": [
  {
   "cell_type": "markdown",
   "id": "647ddd73-9926-4313-a016-939f4b4d043a",
   "metadata": {},
   "source": [
    "## 00_joke_bot"
   ]
  },
  {
   "cell_type": "code",
   "execution_count": 12,
   "id": "96804a2a-5022-478d-ad93-7a9bc4204dee",
   "metadata": {},
   "outputs": [
    {
     "name": "stdin",
     "output_type": "stream",
     "text": [
      "What do you want?  Joke\n"
     ]
    },
    {
     "name": "stdout",
     "output_type": "stream",
     "text": [
      "Here is a joke for you! Why did the developer go broke? Because they used up all their cache.\n"
     ]
    }
   ],
   "source": [
    "PROMPT = \"What do you want? \"\n",
    "JOKE = \"Here is a joke for you! Why did the developer go broke? Because they used up all their cache.\"\n",
    "SORRY = \"Sorry I only tell jokes\"\n",
    "\n",
    "def main():\n",
    "    user_input = input(PROMPT).lower()  # Convert input to lowercase\n",
    "    if user_input == \"joke\":\n",
    "        print(JOKE)\n",
    "    else:\n",
    "        print(SORRY)\n",
    "\n",
    "if __name__ == '__main__':\n",
    "    main()"
   ]
  },
  {
   "cell_type": "markdown",
   "id": "154f9f7c-e763-439b-8692-a5361fb98268",
   "metadata": {},
   "source": [
    "## 01_double_it"
   ]
  },
  {
   "cell_type": "code",
   "execution_count": 16,
   "id": "8fe707fb-8bd4-4483-be5f-e3e28a561c02",
   "metadata": {},
   "outputs": [
    {
     "name": "stdin",
     "output_type": "stream",
     "text": [
      "Enter a number:  4\n"
     ]
    },
    {
     "name": "stdout",
     "output_type": "stream",
     "text": [
      "8\n",
      "16\n",
      "32\n",
      "64\n",
      "128\n"
     ]
    }
   ],
   "source": [
    "def main():\n",
    "    curr_value = int(input(\"Enter a number: \"))\n",
    "\n",
    "    while curr_value < 100:\n",
    "        curr_value = curr_value * 2\n",
    "        print(curr_value)\n",
    "\n",
    "if __name__ == '__main__':\n",
    "    main()"
   ]
  },
  {
   "cell_type": "markdown",
   "id": "c9aed5d5-0424-441b-bc47-06a613e77cc5",
   "metadata": {},
   "source": [
    "## 02_liftoff"
   ]
  },
  {
   "cell_type": "code",
   "execution_count": 27,
   "id": "70e6397f-51dd-4a92-897e-6e0f549e1e84",
   "metadata": {},
   "outputs": [
    {
     "name": "stdout",
     "output_type": "stream",
     "text": [
      "10 9 8 7 6 5 4 3 2 1 Liftoff!\n"
     ]
    }
   ],
   "source": [
    "def main():\n",
    "    for i in range(10, 0, -1):\n",
    "        print(i, end=' ')\n",
    "    print(\"Liftoff!\")\n",
    "\n",
    "if __name__ == \"__main__\":\n",
    "    main()"
   ]
  },
  {
   "cell_type": "markdown",
   "id": "91a43dab-399e-4c22-b691-aae65b9cd105",
   "metadata": {},
   "source": [
    "## 03_guess_my_number"
   ]
  },
  {
   "cell_type": "code",
   "execution_count": 30,
   "id": "7f4db776-e688-4f3b-bc95-b98427a20015",
   "metadata": {},
   "outputs": [
    {
     "name": "stdout",
     "output_type": "stream",
     "text": [
      "I am thinking of a number between 0 and 99...\n"
     ]
    },
    {
     "name": "stdin",
     "output_type": "stream",
     "text": [
      "Enter a guess:  34\n"
     ]
    },
    {
     "name": "stdout",
     "output_type": "stream",
     "text": [
      "Your guess is too high\n"
     ]
    },
    {
     "name": "stdin",
     "output_type": "stream",
     "text": [
      "Enter a new number:  20\n"
     ]
    },
    {
     "name": "stdout",
     "output_type": "stream",
     "text": [
      "Your guess is too high\n"
     ]
    },
    {
     "name": "stdin",
     "output_type": "stream",
     "text": [
      "Enter a new number:  1\n"
     ]
    },
    {
     "name": "stdout",
     "output_type": "stream",
     "text": [
      "Your guess is too low\n"
     ]
    },
    {
     "name": "stdin",
     "output_type": "stream",
     "text": [
      "Enter a new number:  10\n"
     ]
    },
    {
     "name": "stdout",
     "output_type": "stream",
     "text": [
      "Your guess is too high\n"
     ]
    },
    {
     "name": "stdin",
     "output_type": "stream",
     "text": [
      "Enter a new number:  5\n"
     ]
    },
    {
     "name": "stdout",
     "output_type": "stream",
     "text": [
      "Your guess is too low\n"
     ]
    },
    {
     "name": "stdin",
     "output_type": "stream",
     "text": [
      "Enter a new number:  7\n"
     ]
    },
    {
     "name": "stdout",
     "output_type": "stream",
     "text": [
      "Your guess is too high\n"
     ]
    },
    {
     "name": "stdin",
     "output_type": "stream",
     "text": [
      "Enter a new number:  6\n"
     ]
    },
    {
     "name": "stdout",
     "output_type": "stream",
     "text": [
      "Congrats! The number was: 6\n"
     ]
    }
   ],
   "source": [
    "import random\n",
    "\n",
    "def main():\n",
    "    number_to_guess = random.randint(0, 99)\n",
    "    print(\"I am thinking of a number between 0 and 99...\")\n",
    "\n",
    "    guess = int(input(\"Enter a guess: \"))\n",
    "\n",
    "    while guess != number_to_guess:\n",
    "        if guess > number_to_guess:\n",
    "            print(\"Your guess is too high\")\n",
    "        else:\n",
    "            print(\"Your guess is too low\")\n",
    "        guess = int(input(\"Enter a new number: \"))\n",
    "\n",
    "    print(f\"Congrats! The number was: {number_to_guess}\")\n",
    "\n",
    "if __name__ == \"__main__\":\n",
    "    main()"
   ]
  },
  {
   "cell_type": "markdown",
   "id": "4b285b12-1e61-445e-a0f2-97e6adf6d12e",
   "metadata": {},
   "source": [
    "## 04_random_numbers"
   ]
  },
  {
   "cell_type": "code",
   "execution_count": 35,
   "id": "6c5c4064-0685-4bb5-9a1a-c8810e0c94ed",
   "metadata": {},
   "outputs": [
    {
     "name": "stdout",
     "output_type": "stream",
     "text": [
      "21 73 100 62 96 10 1 40 67 97 "
     ]
    }
   ],
   "source": [
    "import random\n",
    "\n",
    "def main():\n",
    "    for _ in range(10):\n",
    "        number = random.randint(1, 100)\n",
    "        print(number, end=\" \")\n",
    "\n",
    "if __name__ == \"__main__\":\n",
    "    main()"
   ]
  }
 ],
 "metadata": {
  "kernelspec": {
   "display_name": "Python [conda env:MachineLearning]",
   "language": "python",
   "name": "conda-env-MachineLearning-py"
  },
  "language_info": {
   "codemirror_mode": {
    "name": "ipython",
    "version": 3
   },
   "file_extension": ".py",
   "mimetype": "text/x-python",
   "name": "python",
   "nbconvert_exporter": "python",
   "pygments_lexer": "ipython3",
   "version": "3.11.11"
  }
 },
 "nbformat": 4,
 "nbformat_minor": 5
}
